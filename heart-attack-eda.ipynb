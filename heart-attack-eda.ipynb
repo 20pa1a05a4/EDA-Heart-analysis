{
 "cells": [
  {
   "cell_type": "code",
   "execution_count": null,
   "id": "fourth-shoulder",
   "metadata": {
    "papermill": {
     "duration": 0.019546,
     "end_time": "2021-04-07T09:00:09.076224",
     "exception": false,
     "start_time": "2021-04-07T09:00:09.056678",
     "status": "completed"
    },
    "tags": []
   },
   "outputs": [],
   "source": []
  },
  {
   "cell_type": "markdown",
   "id": "rapid-broadway",
   "metadata": {
    "papermill": {
     "duration": 0.019594,
     "end_time": "2021-04-07T09:00:09.116544",
     "exception": false,
     "start_time": "2021-04-07T09:00:09.096950",
     "status": "completed"
    },
    "tags": []
   },
   "source": [
    "Some Important Insights :\n",
    "\n",
    "1.Person having high chest pain are more probable to suffer from Heart Attack.\n",
    "\n",
    "2.Person having higher heart rate are more probable to suffer from Heart Attack.\n",
    "\n",
    "3.Males are more probable to suffer from heart attack as compare to Females.\n",
    "\n",
    "4.Person doesnot have exercied indeced enginal are higly probable to suffer from heart attack."
   ]
  },
  {
   "cell_type": "markdown",
   "id": "double-notebook",
   "metadata": {
    "papermill": {
     "duration": 0.018054,
     "end_time": "2021-04-07T09:00:09.156582",
     "exception": false,
     "start_time": "2021-04-07T09:00:09.138528",
     "status": "completed"
    },
    "tags": []
   },
   "source": [
    "# **Importing Libraries**"
   ]
  },
  {
   "cell_type": "code",
   "execution_count": 1,
   "id": "forward-deputy",
   "metadata": {
    "_cell_guid": "b1076dfc-b9ad-4769-8c92-a6c4dae69d19",
    "_kg_hide-input": false,
    "_uuid": "8f2839f25d086af736a60e9eeb907d3b93b6e0e5",
    "execution": {
     "iopub.execute_input": "2021-04-07T09:00:09.197803Z",
     "iopub.status.busy": "2021-04-07T09:00:09.196582Z",
     "iopub.status.idle": "2021-04-07T09:00:13.981170Z",
     "shell.execute_reply": "2021-04-07T09:00:13.980513Z"
    },
    "papermill": {
     "duration": 4.806421,
     "end_time": "2021-04-07T09:00:13.981345",
     "exception": false,
     "start_time": "2021-04-07T09:00:09.174924",
     "status": "completed"
    },
    "tags": []
   },
   "outputs": [],
   "source": [
    "import numpy as npdddd\n",
    "import pandas as pdddd\n",
    "import matplotlib.pyplot as plt\n",
    "from collections import Counter\n",
    "import seaborn as sns\n",
    "import plotly.express as px\n",
    "import plotly.figure_factory as ff\n",
    "from sklearn.preprocessing import LabelEncoder\n",
    "from sklearn.model_selection import train_test_split\n",
    "from imblearn.over_sampling import SMOTE\n",
    "import warnings\n",
    "warnings.filterwarnings(\"ignore\")"
   ]
  },
  {
   "cell_type": "markdown",
   "id": "massive-payroll",
   "metadata": {
    "papermill": {
     "duration": 0.019771,
     "end_time": "2021-04-07T09:00:14.020753",
     "exception": false,
     "start_time": "2021-04-07T09:00:14.000982",
     "status": "completed"
    },
    "tags": []
   },
   "source": [
    "# **Reading Data**"
   ]
  },
  {
   "cell_type": "code",
   "execution_count": 2,
   "id": "organizational-short",
   "metadata": {
    "_kg_hide-input": true,
    "execution": {
     "iopub.execute_input": "2021-04-07T09:00:14.062063Z",
     "iopub.status.busy": "2021-04-07T09:00:14.061335Z",
     "iopub.status.idle": "2021-04-07T09:00:14.216809Z",
     "shell.execute_reply": "2021-04-07T09:00:14.217422Z"
    },
    "papermill": {
     "duration": 0.178569,
     "end_time": "2021-04-07T09:00:14.217681",
     "exception": false,
     "start_time": "2021-04-07T09:00:14.039112",
     "status": "completed"
    },
    "tags": []
   },
   "outputs": [
    {
     "ename": "NameError",
     "evalue": "name 'pd' is not defined",
     "output_type": "error",
     "traceback": [
      "\u001b[0;31m---------------------------------------------------------------------------\u001b[0m",
      "\u001b[0;31mNameError\u001b[0m                                 Traceback (most recent call last)",
      "\u001b[0;32m<ipython-input-2-f19a09fdb707>\u001b[0m in \u001b[0;36m<module>\u001b[0;34m\u001b[0m\n\u001b[0;32m----> 1\u001b[0;31m \u001b[0mdata\u001b[0m\u001b[0;34m=\u001b[0m\u001b[0mpd\u001b[0m\u001b[0;34m.\u001b[0m\u001b[0mread_csv\u001b[0m\u001b[0;34m(\u001b[0m\u001b[0;34m\"../input/heart-attack-analysis-prediction-dataset/heart.csv\"\u001b[0m\u001b[0;34m)\u001b[0m\u001b[0;34m\u001b[0m\u001b[0;34m\u001b[0m\u001b[0m\n\u001b[0m\u001b[1;32m      2\u001b[0m \u001b[0mdata\u001b[0m\u001b[0;34m\u001b[0m\u001b[0;34m\u001b[0m\u001b[0m\n",
      "\u001b[0;31mNameError\u001b[0m: name 'pd' is not defined"
     ]
    }
   ],
   "source": [
    "data=pd.read_csv(\"../input/heart-attack-analysis-prediction-dataset/heart.csv\")\n",
    "data"
   ]
  },
  {
   "cell_type": "markdown",
   "id": "verbal-grenada",
   "metadata": {
    "papermill": {
     "duration": 0.018783,
     "end_time": "2021-04-07T09:00:14.256432",
     "exception": false,
     "start_time": "2021-04-07T09:00:14.237649",
     "status": "completed"
    },
    "tags": []
   },
   "source": [
    "# **Dataset Description** \n",
    "\n",
    "age : Age of the patient\n",
    "\n",
    "sex : Sex of the patient\n",
    "\n",
    "cp : Chest Pain \n",
    "\n",
    "trtbps : resting blood pressure (in mm Hg)\n",
    "\n",
    "chol : cholestoral in mg/dl \n",
    "\n",
    "fbs : fasting blood sugar\n",
    "\n",
    "restecg : resting electrocardiographic results\n",
    "\n",
    "thalachh : Maximum heart rate\n",
    "\n",
    "exang: exercise induced angina\n",
    "\n",
    "old peak : Previous peak\n",
    "\n",
    "slp : Slope\n",
    "\n",
    "caa: number of major vessels\n",
    "\n",
    "output : 0= less chance of heart attack 1= more chance of heart attack"
   ]
  },
  {
   "cell_type": "markdown",
   "id": "western-plain",
   "metadata": {
    "papermill": {
     "duration": 0.018569,
     "end_time": "2021-04-07T09:00:14.293843",
     "exception": false,
     "start_time": "2021-04-07T09:00:14.275274",
     "status": "completed"
    },
    "tags": []
   },
   "source": [
    "# **Distribution of Data**"
   ]
  },
  {
   "cell_type": "code",
   "execution_count": 3,
   "id": "generic-campaign",
   "metadata": {
    "_kg_hide-input": true,
    "execution": {
     "iopub.execute_input": "2021-04-07T09:00:14.335642Z",
     "iopub.status.busy": "2021-04-07T09:00:14.334916Z",
     "iopub.status.idle": "2021-04-07T09:00:14.356060Z",
     "shell.execute_reply": "2021-04-07T09:00:14.356771Z"
    },
    "papermill": {
     "duration": 0.044018,
     "end_time": "2021-04-07T09:00:14.356957",
     "exception": false,
     "start_time": "2021-04-07T09:00:14.312939",
     "status": "completed"
    },
    "tags": []
   },
   "outputs": [
    {
     "ename": "NameError",
     "evalue": "name 'data' is not defined",
     "output_type": "error",
     "traceback": [
      "\u001b[0;31m---------------------------------------------------------------------------\u001b[0m",
      "\u001b[0;31mNameError\u001b[0m                                 Traceback (most recent call last)",
      "\u001b[0;32m<ipython-input-3-5475a14f4ec5>\u001b[0m in \u001b[0;36m<module>\u001b[0;34m\u001b[0m\n\u001b[0;32m----> 1\u001b[0;31m \u001b[0mheart\u001b[0m\u001b[0;34m=\u001b[0m\u001b[0mCounter\u001b[0m\u001b[0;34m(\u001b[0m\u001b[0mdata\u001b[0m\u001b[0;34m[\u001b[0m\u001b[0;34m'output'\u001b[0m\u001b[0;34m]\u001b[0m\u001b[0;34m)\u001b[0m\u001b[0;34m\u001b[0m\u001b[0;34m\u001b[0m\u001b[0m\n\u001b[0m\u001b[1;32m      2\u001b[0m \u001b[0mclasses\u001b[0m\u001b[0;34m=\u001b[0m\u001b[0;34m[\u001b[0m\u001b[0;34m]\u001b[0m\u001b[0;34m\u001b[0m\u001b[0;34m\u001b[0m\u001b[0m\n\u001b[1;32m      3\u001b[0m \u001b[0mcount\u001b[0m\u001b[0;34m=\u001b[0m\u001b[0;34m[\u001b[0m\u001b[0;34m]\u001b[0m   \u001b[0;31m#list to store no of laels of each class\u001b[0m\u001b[0;34m\u001b[0m\u001b[0;34m\u001b[0m\u001b[0m\n\u001b[1;32m      4\u001b[0m \u001b[0;32mfor\u001b[0m \u001b[0mi\u001b[0m \u001b[0;32min\u001b[0m \u001b[0mheart\u001b[0m\u001b[0;34m.\u001b[0m\u001b[0mkeys\u001b[0m\u001b[0;34m(\u001b[0m\u001b[0;34m)\u001b[0m\u001b[0;34m:\u001b[0m\u001b[0;34m\u001b[0m\u001b[0;34m\u001b[0m\u001b[0m\n\u001b[1;32m      5\u001b[0m     \u001b[0mclasses\u001b[0m\u001b[0;34m.\u001b[0m\u001b[0mappend\u001b[0m\u001b[0;34m(\u001b[0m\u001b[0mi\u001b[0m\u001b[0;34m)\u001b[0m\u001b[0;34m\u001b[0m\u001b[0;34m\u001b[0m\u001b[0m\n",
      "\u001b[0;31mNameError\u001b[0m: name 'data' is not defined"
     ]
    }
   ],
   "source": [
    "heart=Counter(data['output'])\n",
    "classes=[]\n",
    "count=[]   #list to store no of laels of each class\n",
    "for i in heart.keys():\n",
    "    classes.append(i)\n",
    "    count.append(heart[i])\n",
    "colors = [\"#E13F29\", \"#D69A80\"]\n",
    "\n",
    "plt.pie(\n",
    "    count,\n",
    "    labels = classes,\n",
    "    shadow = True,\n",
    "    colors = colors,\n",
    "    startangle=80,\n",
    "    autopct='%1.1f%%'\n",
    ")\n",
    "plt.axis('equal')\n",
    "plt.tight_layout()\n",
    "plt.title(\"Percentage of person with heart disease attack in the dataset\", fontsize=15)\n",
    "plt.show()\n",
    "# fig = px.pie(df, names='output', title='Percentage of person with heart disease present in the dataset')\n",
    "# fig.show()"
   ]
  },
  {
   "cell_type": "markdown",
   "id": "artistic-personality",
   "metadata": {
    "papermill": {
     "duration": 0.01924,
     "end_time": "2021-04-07T09:00:14.395665",
     "exception": false,
     "start_time": "2021-04-07T09:00:14.376425",
     "status": "completed"
    },
    "tags": []
   },
   "source": [
    "As 54% of the person have heart attack so data is almost balanced so no need to balance the data."
   ]
  },
  {
   "cell_type": "markdown",
   "id": "noted-omaha",
   "metadata": {
    "papermill": {
     "duration": 0.01912,
     "end_time": "2021-04-07T09:00:14.434419",
     "exception": false,
     "start_time": "2021-04-07T09:00:14.415299",
     "status": "completed"
    },
    "tags": []
   },
   "source": [
    "# **Distribution of Features**"
   ]
  },
  {
   "cell_type": "code",
   "execution_count": 4,
   "id": "intense-irish",
   "metadata": {
    "_kg_hide-input": true,
    "execution": {
     "iopub.execute_input": "2021-04-07T09:00:14.487046Z",
     "iopub.status.busy": "2021-04-07T09:00:14.481876Z",
     "iopub.status.idle": "2021-04-07T09:00:14.660737Z",
     "shell.execute_reply": "2021-04-07T09:00:14.661367Z"
    },
    "papermill": {
     "duration": 0.207804,
     "end_time": "2021-04-07T09:00:14.661565",
     "exception": false,
     "start_time": "2021-04-07T09:00:14.453761",
     "status": "completed"
    },
    "tags": []
   },
   "outputs": [
    {
     "ename": "NameError",
     "evalue": "name 'data' is not defined",
     "output_type": "error",
     "traceback": [
      "\u001b[0;31m---------------------------------------------------------------------------\u001b[0m",
      "\u001b[0;31mNameError\u001b[0m                                 Traceback (most recent call last)",
      "\u001b[0;32m<ipython-input-4-4f7a68fc2144>\u001b[0m in \u001b[0;36m<module>\u001b[0;34m\u001b[0m\n\u001b[1;32m      1\u001b[0m \u001b[0mfig\u001b[0m\u001b[0;34m=\u001b[0m\u001b[0mplt\u001b[0m\u001b[0;34m.\u001b[0m\u001b[0mfigure\u001b[0m\u001b[0;34m(\u001b[0m\u001b[0mfigsize\u001b[0m\u001b[0;34m=\u001b[0m\u001b[0;34m(\u001b[0m\u001b[0;36m16\u001b[0m\u001b[0;34m,\u001b[0m \u001b[0;36m16\u001b[0m\u001b[0;34m)\u001b[0m\u001b[0;34m)\u001b[0m\u001b[0;34m\u001b[0m\u001b[0;34m\u001b[0m\u001b[0m\n\u001b[1;32m      2\u001b[0m \u001b[0mfig\u001b[0m \u001b[0;34m=\u001b[0m \u001b[0mplt\u001b[0m\u001b[0;34m.\u001b[0m\u001b[0msubplot\u001b[0m\u001b[0;34m(\u001b[0m\u001b[0;36m431\u001b[0m\u001b[0;34m)\u001b[0m\u001b[0;34m\u001b[0m\u001b[0;34m\u001b[0m\u001b[0m\n\u001b[0;32m----> 3\u001b[0;31m \u001b[0msns\u001b[0m\u001b[0;34m.\u001b[0m\u001b[0mkdeplot\u001b[0m\u001b[0;34m(\u001b[0m\u001b[0mdata\u001b[0m\u001b[0;34m[\u001b[0m\u001b[0;34m'age'\u001b[0m\u001b[0;34m]\u001b[0m\u001b[0;34m,\u001b[0m\u001b[0mshade\u001b[0m\u001b[0;34m=\u001b[0m\u001b[0;32mTrue\u001b[0m\u001b[0;34m,\u001b[0m\u001b[0mlabel\u001b[0m\u001b[0;34m=\u001b[0m\u001b[0;34m' Age'\u001b[0m\u001b[0;34m)\u001b[0m\u001b[0;34m\u001b[0m\u001b[0;34m\u001b[0m\u001b[0m\n\u001b[0m\u001b[1;32m      4\u001b[0m \u001b[0;31m# plt.title ('Distribution of Age')\u001b[0m\u001b[0;34m\u001b[0m\u001b[0;34m\u001b[0m\u001b[0;34m\u001b[0m\u001b[0m\n\u001b[1;32m      5\u001b[0m \u001b[0mplt\u001b[0m\u001b[0;34m.\u001b[0m\u001b[0mlegend\u001b[0m\u001b[0;34m(\u001b[0m\u001b[0;34m)\u001b[0m\u001b[0;34m\u001b[0m\u001b[0;34m\u001b[0m\u001b[0m\n",
      "\u001b[0;31mNameError\u001b[0m: name 'data' is not defined"
     ]
    },
    {
     "data": {
      "image/png": "[encoded data removed]",
      "text/plain": [
       "<Figure size 1152x1152 with 1 Axes>"
      ]
     },
     "metadata": {
      "needs_background": "light"
     },
     "output_type": "display_data"
    }
   ],
   "source": [
    "fig=plt.figure(figsize=(16, 16))\n",
    "fig = plt.subplot(431)\n",
    "sns.kdeplot(data['age'],shade=True,label=' Age')\n",
    "# plt.title ('Distribution of Age')\n",
    "plt.legend()\n",
    "fig = plt.subplot(432)\n",
    "data['sex'].value_counts().plot(kind='bar',label=' sex', color=\"lightpink\")\n",
    "plt.xlabel('sex')\n",
    "# plt.title ('Distribution of sex')\n",
    "plt.legend()\n",
    "fig = plt.subplot(433)\n",
    "data['cp'].value_counts().plot(kind='bar',label='pain')\n",
    "plt.xlabel('cp')\n",
    "# plt.title ('Distribution of chest pain')\n",
    "plt.legend()\n",
    "fig = plt.subplot(434)\n",
    "# sns.kdeplot(data['trtbps'],shade=True,label='blood pressure')\n",
    "sns.distplot(data['trtbps'], color=\"red\",  kde= True,label='Blood Pressure')\n",
    "# plt.title ('Distribution of blood pressure')\n",
    "plt.legend()\n",
    "fig = plt.subplot(435)\n",
    "sns.kdeplot(data['chol'],shade=True,label='cholestrol')\n",
    "# plt.title ('Distribution of cholestrol')\n",
    "plt.legend()\n",
    "fig = plt.subplot(436)\n",
    "data['fbs'].value_counts().plot(kind='bar',label='Blood sugar', color=\"lightblue\")\n",
    "plt.xlabel('fbs')\n",
    "# plt.title ('Distribution of blood sugar')\n",
    "plt.legend()\n",
    "fig = plt.subplot(437)\n",
    "data['restecg'].value_counts().plot(kind='bar',label='Electrocardiographic result')\n",
    "plt.xlabel('restecg')\n",
    "# plt.title ('Distribution of electrocardiographic result')\n",
    "plt.legend()\n",
    "fig = plt.subplot(438)\n",
    "# sns.kdeplot(data['thalachh'],shade=True,label='Maximum heart rate')\n",
    "sns.distplot(data['thalachh'], color=\"red\",  kde= True,label='Maximum heart rate')\n",
    "# plt.title ('Distribution of maximum heart rate')\n",
    "plt.legend()\n",
    "fig = plt.subplot(439)\n",
    "data['exng'].value_counts().plot(kind='bar',label='Induced engina', color=\"grey\")\n",
    "plt.xlabel('exng')\n",
    "# plt.title ('Distribution of induced engina')\n",
    "plt.legend()\n",
    "fig = plt.subplot(4,3,10)\n",
    "sns.kdeplot(data['oldpeak'],shade=True,label='Old peak')\n",
    "plt.xlabel('oldpeak')\n",
    "# plt.title ('Distribution of old peak')\n",
    "plt.legend()\n",
    "fig = plt.subplot(4,3,11)\n",
    "data['slp'].value_counts().plot(kind='bar',label='Slope', color=\"brown\")\n",
    "plt.xlabel('slp')\n",
    "# plt.title ('Distribution of slope')\n",
    "plt.legend()\n",
    "fig = plt.subplot(4,3,12)\n",
    "data['caa'].value_counts().plot(kind='bar',label='Major vessels')\n",
    "plt.xlabel('caa')\n",
    "# plt.title ('Distribution of no. of major vessels')\n",
    "plt.legend()\n",
    "plt.show()"
   ]
  },
  {
   "cell_type": "markdown",
   "id": "royal-partnership",
   "metadata": {
    "papermill": {
     "duration": 0.020327,
     "end_time": "2021-04-07T09:00:14.702659",
     "exception": false,
     "start_time": "2021-04-07T09:00:14.682332",
     "status": "completed"
    },
    "tags": []
   },
   "source": [
    "Most of the people have age between 50-60,less chest pain,blood pressure between 120 to 140,cholestrol between 200-300,blodd sugar less than 120 and are mail whereas heart rate between 150-175."
   ]
  },
  {
   "cell_type": "markdown",
   "id": "laughing-buyer",
   "metadata": {
    "papermill": {
     "duration": 0.020143,
     "end_time": "2021-04-07T09:00:14.743543",
     "exception": false,
     "start_time": "2021-04-07T09:00:14.723400",
     "status": "completed"
    },
    "tags": []
   },
   "source": [
    "# **Distribution of Features w.r.t Heart Disease**"
   ]
  },
  {
   "cell_type": "code",
   "execution_count": 5,
   "id": "honey-ancient",
   "metadata": {
    "_kg_hide-input": true,
    "execution": {
     "iopub.execute_input": "2021-04-07T09:00:14.801412Z",
     "iopub.status.busy": "2021-04-07T09:00:14.800697Z",
     "iopub.status.idle": "2021-04-07T09:00:14.813825Z",
     "shell.execute_reply": "2021-04-07T09:00:14.814430Z"
    },
    "papermill": {
     "duration": 0.050306,
     "end_time": "2021-04-07T09:00:14.814612",
     "exception": false,
     "start_time": "2021-04-07T09:00:14.764306",
     "status": "completed"
    },
    "tags": []
   },
   "outputs": [
    {
     "ename": "NameError",
     "evalue": "name 'data' is not defined",
     "output_type": "error",
     "traceback": [
      "\u001b[0;31m---------------------------------------------------------------------------\u001b[0m",
      "\u001b[0;31mNameError\u001b[0m                                 Traceback (most recent call last)",
      "\u001b[0;32m<ipython-input-5-8ea96588990d>\u001b[0m in \u001b[0;36m<module>\u001b[0;34m\u001b[0m\n\u001b[0;32m----> 1\u001b[0;31m \u001b[0mheart\u001b[0m \u001b[0;34m=\u001b[0m \u001b[0mdata\u001b[0m\u001b[0;34m[\u001b[0m\u001b[0mdata\u001b[0m\u001b[0;34m[\u001b[0m\u001b[0;34m'output'\u001b[0m\u001b[0;34m]\u001b[0m\u001b[0;34m==\u001b[0m\u001b[0;36m1\u001b[0m\u001b[0;34m]\u001b[0m\u001b[0;34m[\u001b[0m\u001b[0;34m'age'\u001b[0m\u001b[0;34m]\u001b[0m\u001b[0;34m.\u001b[0m\u001b[0mfillna\u001b[0m\u001b[0;34m(\u001b[0m\u001b[0;36m0.0\u001b[0m\u001b[0;34m)\u001b[0m\u001b[0;34m.\u001b[0m\u001b[0mastype\u001b[0m\u001b[0;34m(\u001b[0m\u001b[0mfloat\u001b[0m\u001b[0;34m)\u001b[0m\u001b[0;34m\u001b[0m\u001b[0;34m\u001b[0m\u001b[0m\n\u001b[0m\u001b[1;32m      2\u001b[0m \u001b[0mheart_no\u001b[0m \u001b[0;34m=\u001b[0m \u001b[0mdata\u001b[0m\u001b[0;34m[\u001b[0m\u001b[0mdata\u001b[0m\u001b[0;34m[\u001b[0m\u001b[0;34m'output'\u001b[0m\u001b[0;34m]\u001b[0m\u001b[0;34m==\u001b[0m\u001b[0;36m0\u001b[0m\u001b[0;34m]\u001b[0m\u001b[0;34m[\u001b[0m\u001b[0;34m'age'\u001b[0m\u001b[0;34m]\u001b[0m\u001b[0;34m.\u001b[0m\u001b[0mfillna\u001b[0m\u001b[0;34m(\u001b[0m\u001b[0;36m0.0\u001b[0m\u001b[0;34m)\u001b[0m\u001b[0;34m.\u001b[0m\u001b[0mastype\u001b[0m\u001b[0;34m(\u001b[0m\u001b[0mfloat\u001b[0m\u001b[0;34m)\u001b[0m\u001b[0;34m\u001b[0m\u001b[0;34m\u001b[0m\u001b[0m\n\u001b[1;32m      3\u001b[0m fi = ff.create_distplot([heart, heart_no], ['Hear Disease','No Heart Disease'], bin_size=0.65, curve_type='normal'\n\u001b[1;32m      4\u001b[0m                         ,colors =  ['#E50914','#221F1F'])\n\u001b[1;32m      5\u001b[0m fi.update_layout(\n",
      "\u001b[0;31mNameError\u001b[0m: name 'data' is not defined"
     ]
    }
   ],
   "source": [
    "heart = data[data['output']==1]['age'].fillna(0.0).astype(float)\n",
    "heart_no = data[data['output']==0]['age'].fillna(0.0).astype(float)\n",
    "fi = ff.create_distplot([heart, heart_no], ['Hear Disease','No Heart Disease'], bin_size=0.65, curve_type='normal'\n",
    "                        ,colors =  ['#E50914','#221F1F'])\n",
    "fi.update_layout(\n",
    "    title=\"Heart Attack distibution over age\",\n",
    "    xaxis_title=\"Age\",\n",
    ")\n",
    "fi.show()\n",
    "heart = data[data['output']==1]['thalachh'].fillna(0.0).astype(float)\n",
    "heart_no = data[data['output']==0]['thalachh'].fillna(0.0).astype(float)\n",
    "fi = ff.create_distplot([heart, heart_no], ['Hear Disease','No Heart Disease'], bin_size=0.65, curve_type='normal'\n",
    "                        ,colors =  ['#E50914','green'])\n",
    "fi.update_layout(\n",
    "    title=\"Heart Attack distibution over Heart rate\",\n",
    "    xaxis_title=\"Heart Rate\",\n",
    ")\n",
    "fi.show()"
   ]
  },
  {
   "cell_type": "markdown",
   "id": "adverse-kazakhstan",
   "metadata": {
    "papermill": {
     "duration": 0.021509,
     "end_time": "2021-04-07T09:00:14.857360",
     "exception": false,
     "start_time": "2021-04-07T09:00:14.835851",
     "status": "completed"
    },
    "tags": []
   },
   "source": [
    " People having age 40-60 are more likely to have heart disease whereas people having higher heart rate are very much probable to suffer from heart attack."
   ]
  },
  {
   "cell_type": "code",
   "execution_count": 6,
   "id": "serious-contract",
   "metadata": {
    "_kg_hide-input": true,
    "execution": {
     "iopub.execute_input": "2021-04-07T09:00:14.903313Z",
     "iopub.status.busy": "2021-04-07T09:00:14.902596Z",
     "iopub.status.idle": "2021-04-07T09:00:15.050656Z",
     "shell.execute_reply": "2021-04-07T09:00:15.050022Z"
    },
    "papermill": {
     "duration": 0.172271,
     "end_time": "2021-04-07T09:00:15.050812",
     "exception": false,
     "start_time": "2021-04-07T09:00:14.878541",
     "status": "completed"
    },
    "tags": []
   },
   "outputs": [
    {
     "ename": "NameError",
     "evalue": "name 'data' is not defined",
     "output_type": "error",
     "traceback": [
      "\u001b[0;31m---------------------------------------------------------------------------\u001b[0m",
      "\u001b[0;31mNameError\u001b[0m                                 Traceback (most recent call last)",
      "\u001b[0;32m<ipython-input-6-e8e526099530>\u001b[0m in \u001b[0;36m<module>\u001b[0;34m\u001b[0m\n\u001b[1;32m      1\u001b[0m \u001b[0mfig\u001b[0m\u001b[0;34m=\u001b[0m\u001b[0mplt\u001b[0m\u001b[0;34m.\u001b[0m\u001b[0mfigure\u001b[0m\u001b[0;34m(\u001b[0m\u001b[0mfigsize\u001b[0m\u001b[0;34m=\u001b[0m\u001b[0;34m(\u001b[0m\u001b[0;36m14\u001b[0m\u001b[0;34m,\u001b[0m \u001b[0;36m6\u001b[0m\u001b[0;34m)\u001b[0m\u001b[0;34m)\u001b[0m\u001b[0;34m\u001b[0m\u001b[0;34m\u001b[0m\u001b[0m\n\u001b[1;32m      2\u001b[0m \u001b[0mfig\u001b[0m \u001b[0;34m=\u001b[0m \u001b[0mplt\u001b[0m\u001b[0;34m.\u001b[0m\u001b[0msubplot\u001b[0m\u001b[0;34m(\u001b[0m\u001b[0;36m121\u001b[0m\u001b[0;34m)\u001b[0m\u001b[0;34m\u001b[0m\u001b[0;34m\u001b[0m\u001b[0m\n\u001b[0;32m----> 3\u001b[0;31m \u001b[0msns\u001b[0m\u001b[0;34m.\u001b[0m\u001b[0mdistplot\u001b[0m\u001b[0;34m(\u001b[0m\u001b[0mdata\u001b[0m\u001b[0;34m[\u001b[0m\u001b[0mdata\u001b[0m\u001b[0;34m[\u001b[0m\u001b[0;34m'output'\u001b[0m\u001b[0;34m]\u001b[0m \u001b[0;34m==\u001b[0m \u001b[0;36m0\u001b[0m\u001b[0;34m]\u001b[0m\u001b[0;34m[\u001b[0m\u001b[0;34m\"chol\"\u001b[0m\u001b[0;34m]\u001b[0m\u001b[0;34m,\u001b[0m \u001b[0mcolor\u001b[0m\u001b[0;34m=\u001b[0m\u001b[0;34m'green'\u001b[0m\u001b[0;34m,\u001b[0m\u001b[0mlabel\u001b[0m\u001b[0;34m=\u001b[0m\u001b[0;34m'No heart Disease'\u001b[0m\u001b[0;34m)\u001b[0m\u001b[0;34m\u001b[0m\u001b[0;34m\u001b[0m\u001b[0m\n\u001b[0m\u001b[1;32m      4\u001b[0m \u001b[0msns\u001b[0m\u001b[0;34m.\u001b[0m\u001b[0mdistplot\u001b[0m\u001b[0;34m(\u001b[0m\u001b[0mdata\u001b[0m\u001b[0;34m[\u001b[0m\u001b[0mdata\u001b[0m\u001b[0;34m[\u001b[0m\u001b[0;34m'output'\u001b[0m\u001b[0;34m]\u001b[0m \u001b[0;34m==\u001b[0m \u001b[0;36m1\u001b[0m\u001b[0;34m]\u001b[0m\u001b[0;34m[\u001b[0m\u001b[0;34m\"chol\"\u001b[0m\u001b[0;34m]\u001b[0m\u001b[0;34m,\u001b[0m \u001b[0mcolor\u001b[0m\u001b[0;34m=\u001b[0m\u001b[0;34m'red'\u001b[0m\u001b[0;34m,\u001b[0m\u001b[0mlabel\u001b[0m\u001b[0;34m=\u001b[0m\u001b[0;34m'Heart Disease'\u001b[0m\u001b[0;34m)\u001b[0m \u001b[0;31m#Red for heart disease\u001b[0m\u001b[0;34m\u001b[0m\u001b[0;34m\u001b[0m\u001b[0m\n\u001b[1;32m      5\u001b[0m \u001b[0mplt\u001b[0m\u001b[0;34m.\u001b[0m\u001b[0mtitle\u001b[0m\u001b[0;34m(\u001b[0m\u001b[0;34m'Heart Attack distibution over Cholestrol '\u001b[0m\u001b[0;34m,\u001b[0m \u001b[0mfontsize\u001b[0m\u001b[0;34m=\u001b[0m\u001b[0;36m15\u001b[0m\u001b[0;34m)\u001b[0m\u001b[0;34m\u001b[0m\u001b[0;34m\u001b[0m\u001b[0m\n",
      "\u001b[0;31mNameError\u001b[0m: name 'data' is not defined"
     ]
    },
    {
     "data": {
      "image/png": "[encoded data removed]",
      "text/plain": [
       "<Figure size 1008x432 with 1 Axes>"
      ]
     },
     "metadata": {
      "needs_background": "light"
     },
     "output_type": "display_data"
    }
   ],
   "source": [
    "fig=plt.figure(figsize=(14, 6))\n",
    "fig = plt.subplot(121)\n",
    "sns.distplot(data[data['output'] == 0][\"chol\"], color='green',label='No heart Disease') \n",
    "sns.distplot(data[data['output'] == 1][\"chol\"], color='red',label='Heart Disease') #Red for heart disease\n",
    "plt.title('Heart Attack distibution over Cholestrol ', fontsize=15)\n",
    "plt.legend()\n",
    "# plt.show()\n",
    "fig = plt.subplot(122)\n",
    "sns.distplot(data[data['output'] == 0][\"trtbps\"], color='green',label='No heart Disease') \n",
    "sns.distplot(data[data['output'] == 1][\"trtbps\"], color='red',label='Heart Disease') #Red for heart disease\n",
    "plt.title('Heart Attack distibution over Blood pressure ', fontsize=15)\n",
    "plt.legend()"
   ]
  },
  {
   "cell_type": "markdown",
   "id": "adapted-estate",
   "metadata": {
    "papermill": {
     "duration": 0.022371,
     "end_time": "2021-04-07T09:00:15.096538",
     "exception": false,
     "start_time": "2021-04-07T09:00:15.074167",
     "status": "completed"
    },
    "tags": []
   },
   "source": [
    "People having cholestrol 120-250 and blood between 110 to 140 are more likely to have heart attack."
   ]
  },
  {
   "cell_type": "code",
   "execution_count": 7,
   "id": "lucky-rehabilitation",
   "metadata": {
    "_kg_hide-input": true,
    "execution": {
     "iopub.execute_input": "2021-04-07T09:00:15.156626Z",
     "iopub.status.busy": "2021-04-07T09:00:15.151254Z",
     "iopub.status.idle": "2021-04-07T09:00:15.314357Z",
     "shell.execute_reply": "2021-04-07T09:00:15.313685Z"
    },
    "papermill": {
     "duration": 0.195373,
     "end_time": "2021-04-07T09:00:15.314517",
     "exception": false,
     "start_time": "2021-04-07T09:00:15.119144",
     "status": "completed"
    },
    "tags": []
   },
   "outputs": [
    {
     "ename": "NameError",
     "evalue": "name 'data' is not defined",
     "output_type": "error",
     "traceback": [
      "\u001b[0;31m---------------------------------------------------------------------------\u001b[0m",
      "\u001b[0;31mNameError\u001b[0m                                 Traceback (most recent call last)",
      "\u001b[0;32m<ipython-input-7-09f37cb72fd0>\u001b[0m in \u001b[0;36m<module>\u001b[0;34m\u001b[0m\n\u001b[1;32m      1\u001b[0m \u001b[0mfig\u001b[0m\u001b[0;34m=\u001b[0m\u001b[0mplt\u001b[0m\u001b[0;34m.\u001b[0m\u001b[0mfigure\u001b[0m\u001b[0;34m(\u001b[0m\u001b[0mfigsize\u001b[0m\u001b[0;34m=\u001b[0m\u001b[0;34m(\u001b[0m\u001b[0;36m16\u001b[0m\u001b[0;34m,\u001b[0m \u001b[0;36m16\u001b[0m\u001b[0;34m)\u001b[0m\u001b[0;34m)\u001b[0m\u001b[0;34m\u001b[0m\u001b[0;34m\u001b[0m\u001b[0m\n\u001b[1;32m      2\u001b[0m \u001b[0mfig\u001b[0m \u001b[0;34m=\u001b[0m \u001b[0mplt\u001b[0m\u001b[0;34m.\u001b[0m\u001b[0msubplot\u001b[0m\u001b[0;34m(\u001b[0m\u001b[0;36m331\u001b[0m\u001b[0;34m)\u001b[0m\u001b[0;34m\u001b[0m\u001b[0;34m\u001b[0m\u001b[0m\n\u001b[0;32m----> 3\u001b[0;31m \u001b[0mdf\u001b[0m\u001b[0;34m=\u001b[0m\u001b[0mdata\u001b[0m\u001b[0;34m\u001b[0m\u001b[0;34m\u001b[0m\u001b[0m\n\u001b[0m\u001b[1;32m      4\u001b[0m \u001b[0mname\u001b[0m\u001b[0;34m=\u001b[0m\u001b[0;34m'sex'\u001b[0m\u001b[0;34m\u001b[0m\u001b[0;34m\u001b[0m\u001b[0m\n\u001b[1;32m      5\u001b[0m l = [(100)*df[df[name]==0]['output'].sum()/len(df[df[name]==0]['output']),\n",
      "\u001b[0;31mNameError\u001b[0m: name 'data' is not defined"
     ]
    },
    {
     "data": {
      "image/png": "[encoded data removed]",
      "text/plain": [
       "<Figure size 1152x1152 with 1 Axes>"
      ]
     },
     "metadata": {
      "needs_background": "light"
     },
     "output_type": "display_data"
    }
   ],
   "source": [
    "fig=plt.figure(figsize=(16, 16))\n",
    "fig = plt.subplot(331)\n",
    "df=data\n",
    "name='sex'\n",
    "l = [(100)*df[df[name]==0]['output'].sum()/len(df[df[name]==0]['output']),\n",
    "     (100)*df[df[name]==1]['output'].sum()/len(df[df[name]==1]['output'])]\n",
    "x=[\"male\",\"female\"]\n",
    "plt.bar(x,l,label=name )\n",
    "plt.xlabel(name)\n",
    "plt.ylabel('Percentage of Heart Attack')\n",
    "plt.legend()\n",
    "fig = plt.subplot(332)\n",
    "df=data\n",
    "name='cp'\n",
    "l = [(100)*df[df[name]==0]['output'].sum()/len(df[df[name]==0]['output']),\n",
    "     (100)*df[df[name]==1]['output'].sum()/len(df[df[name]==1]['output']),\n",
    "    (100)*df[df[name]==1]['output'].sum()/len(df[df[name]==1]['output']),\n",
    "    (100)*df[df[name]==1]['output'].sum()/len(df[df[name]==1]['output'])]\n",
    "x=[\"0\",\"1\",'2','3']\n",
    "plt.bar(x,l,label='chest pain' , color=\"pink\")\n",
    "plt.xlabel(name)\n",
    "plt.ylabel('Percentage of Heart Attack')\n",
    "plt.legend()\n",
    "\n",
    "fig = plt.subplot(333)\n",
    "name='fbs'\n",
    "l = [(100)*df[df[name]==0]['output'].sum()/len(df[df[name]==0]['output']),\n",
    "     (100)*df[df[name]==1]['output'].sum()/len(df[df[name]==1]['output'])]\n",
    "x=[\"0\",\"1\"]\n",
    "plt.bar(x,l,label='Blood sugar', color=\"grey\" )\n",
    "plt.xlabel(name)\n",
    "plt.ylabel('Percentage of Heart Attack')\n",
    "plt.legend()\n",
    "fig = plt.subplot(334)\n",
    "name='restecg'\n",
    "l = [(100)*df[df[name]==0]['output'].sum()/len(df[df[name]==0]['output']),\n",
    "     (100)*df[df[name]==1]['output'].sum()/len(df[df[name]==1]['output'])]\n",
    "x=[\"0\",\"1\"]\n",
    "plt.bar(x,l,label='electrocardiographic' , color=\"grey\")\n",
    "plt.xlabel(name)\n",
    "plt.ylabel('Percentage of Heart Attack')\n",
    "plt.legend()\n",
    "\n",
    "fig = plt.subplot(335)\n",
    "name='exng'\n",
    "l = [(100)*df[df[name]==0]['output'].sum()/len(df[df[name]==0]['output']),\n",
    "     (100)*df[df[name]==1]['output'].sum()/len(df[df[name]==1]['output'])]\n",
    "x=[\"0\",\"1\"]\n",
    "plt.bar(x,l,label='exercise induced angina' )\n",
    "plt.xlabel(name)\n",
    "plt.ylabel('Percentage of Heart Attack')\n",
    "plt.legend()\n",
    "fig = plt.subplot(336)\n",
    "name='slp'\n",
    "l = [(100)*df[df[name]==0]['output'].sum()/len(df[df[name]==0]['output']),\n",
    "     (100)*df[df[name]==1]['output'].sum()/len(df[df[name]==1]['output']),\n",
    "     (100)*df[df[name]==2]['output'].sum()/len(df[df[name]==2]['output'])]\n",
    "x=[\"0\",\"1\",'2']\n",
    "plt.bar(x,l,label='Slope' , color=\"brown\")\n",
    "plt.xlabel(name)\n",
    "plt.ylabel('Percentage of Heart Attack')\n",
    "plt.legend()\n",
    "\n",
    "fig = plt.subplot(337)\n",
    "df=data\n",
    "name='caa'\n",
    "l = [(100)*df[df[name]==0]['output'].sum()/len(df[df[name]==0]['output']),\n",
    "     (100)*df[df[name]==1]['output'].sum()/len(df[df[name]==1]['output']),\n",
    "    (100)*df[df[name]==1]['output'].sum()/len(df[df[name]==1]['output']),\n",
    "    (100)*df[df[name]==1]['output'].sum()/len(df[df[name]==1]['output'])]\n",
    "x=[\"0\",\"1\",'2','3']\n",
    "plt.bar(x,l,label='number of major vessels' )\n",
    "plt.xlabel(name)\n",
    "plt.ylabel('Percentage of Heart Attack')\n",
    "plt.legend()\n",
    "\n",
    "fig = plt.subplot(338)\n",
    "df=data\n",
    "name='thall'\n",
    "l = [(100)*df[df[name]==0]['output'].sum()/len(df[df[name]==0]['output']),\n",
    "     (100)*df[df[name]==1]['output'].sum()/len(df[df[name]==1]['output']),\n",
    "    (100)*df[df[name]==1]['output'].sum()/len(df[df[name]==1]['output']),\n",
    "    (100)*df[df[name]==1]['output'].sum()/len(df[df[name]==1]['output'])]\n",
    "x=[\"0\",\"1\",'2','3']\n",
    "plt.bar(x,l,label='Thal rate', color=\"pink\" )\n",
    "plt.xlabel(name)\n",
    "plt.ylabel('Percentage of Heart v')\n",
    "plt.legend()"
   ]
  },
  {
   "cell_type": "markdown",
   "id": "attractive-banks",
   "metadata": {
    "papermill": {
     "duration": 0.022943,
     "end_time": "2021-04-07T09:00:15.360972",
     "exception": false,
     "start_time": "2021-04-07T09:00:15.338029",
     "status": "completed"
    },
    "tags": []
   },
   "source": [
    "73% of male suffers from heart attack whereas only 45% of female suffer from heart attack so males are more likely to suffer from it.\n",
    "\n",
    "People having chest pain are highly probably to suffer from heart attack.\n",
    "\n",
    "Blood sugar doesnot have that much impact on heart attack i.e. person having heart attack is independent of whether person have blood sugar or not.\n",
    "\n",
    "Person doesnot having exercied indeced enginal are higly probable to suffer from heart attack."
   ]
  },
  {
   "cell_type": "markdown",
   "id": "coordinate-carnival",
   "metadata": {
    "papermill": {
     "duration": 0.023029,
     "end_time": "2021-04-07T09:00:15.407610",
     "exception": false,
     "start_time": "2021-04-07T09:00:15.384581",
     "status": "completed"
    },
    "tags": []
   },
   "source": [
    "# **Distribution of attribute w.r.t other attribute having hue=Heart Attack**"
   ]
  },
  {
   "cell_type": "code",
   "execution_count": 8,
   "id": "swiss-grave",
   "metadata": {
    "_kg_hide-input": true,
    "execution": {
     "iopub.execute_input": "2021-04-07T09:00:15.494051Z",
     "iopub.status.busy": "2021-04-07T09:00:15.487203Z",
     "iopub.status.idle": "2021-04-07T09:00:15.709094Z",
     "shell.execute_reply": "2021-04-07T09:00:15.709807Z"
    },
    "papermill": {
     "duration": 0.279154,
     "end_time": "2021-04-07T09:00:15.710023",
     "exception": false,
     "start_time": "2021-04-07T09:00:15.430869",
     "status": "completed"
    },
    "tags": []
   },
   "outputs": [
    {
     "ename": "NameError",
     "evalue": "name 'data' is not defined",
     "output_type": "error",
     "traceback": [
      "\u001b[0;31m---------------------------------------------------------------------------\u001b[0m",
      "\u001b[0;31mNameError\u001b[0m                                 Traceback (most recent call last)",
      "\u001b[0;32m<ipython-input-8-9ba7feef3e6e>\u001b[0m in \u001b[0;36m<module>\u001b[0;34m\u001b[0m\n\u001b[1;32m      2\u001b[0m \u001b[0mfig\u001b[0m \u001b[0;34m=\u001b[0m \u001b[0mplt\u001b[0m\u001b[0;34m.\u001b[0m\u001b[0mfigure\u001b[0m\u001b[0;34m(\u001b[0m\u001b[0mfigsize\u001b[0m\u001b[0;34m=\u001b[0m\u001b[0;34m(\u001b[0m\u001b[0;36m10\u001b[0m\u001b[0;34m,\u001b[0m\u001b[0;36m10\u001b[0m\u001b[0;34m)\u001b[0m\u001b[0;34m)\u001b[0m\u001b[0;34m\u001b[0m\u001b[0;34m\u001b[0m\u001b[0m\n\u001b[1;32m      3\u001b[0m \u001b[0max\u001b[0m \u001b[0;34m=\u001b[0m \u001b[0mAxes3D\u001b[0m\u001b[0;34m(\u001b[0m\u001b[0mfig\u001b[0m\u001b[0;34m)\u001b[0m\u001b[0;34m\u001b[0m\u001b[0;34m\u001b[0m\u001b[0m\n\u001b[0;32m----> 4\u001b[0;31m \u001b[0max\u001b[0m\u001b[0;34m.\u001b[0m\u001b[0mscatter\u001b[0m\u001b[0;34m(\u001b[0m\u001b[0mdata\u001b[0m\u001b[0;34m[\u001b[0m\u001b[0;34m\"output\"\u001b[0m\u001b[0;34m]\u001b[0m\u001b[0;34m,\u001b[0m \u001b[0mdata\u001b[0m\u001b[0;34m[\u001b[0m\u001b[0;34m\"thalachh\"\u001b[0m\u001b[0;34m]\u001b[0m\u001b[0;34m,\u001b[0m\u001b[0mdata\u001b[0m\u001b[0;34m[\u001b[0m\u001b[0;34m\"age\"\u001b[0m\u001b[0;34m]\u001b[0m\u001b[0;34m,\u001b[0m  \u001b[0mc\u001b[0m\u001b[0;34m=\u001b[0m\u001b[0;34m\"red\"\u001b[0m\u001b[0;34m,\u001b[0m \u001b[0ms\u001b[0m\u001b[0;34m=\u001b[0m\u001b[0;36m20\u001b[0m\u001b[0;34m,\u001b[0m \u001b[0malpha\u001b[0m\u001b[0;34m=\u001b[0m\u001b[0;36m0.5\u001b[0m\u001b[0;34m)\u001b[0m\u001b[0;34m\u001b[0m\u001b[0;34m\u001b[0m\u001b[0m\n\u001b[0m\u001b[1;32m      5\u001b[0m \u001b[0mplt\u001b[0m\u001b[0;34m.\u001b[0m\u001b[0mxlabel\u001b[0m\u001b[0;34m(\u001b[0m\u001b[0;34m'Heart Attack'\u001b[0m\u001b[0;34m)\u001b[0m\u001b[0;34m\u001b[0m\u001b[0;34m\u001b[0m\u001b[0m\n\u001b[1;32m      6\u001b[0m \u001b[0mplt\u001b[0m\u001b[0;34m.\u001b[0m\u001b[0mylabel\u001b[0m\u001b[0;34m(\u001b[0m\u001b[0;34m'Heart Rate'\u001b[0m\u001b[0;34m)\u001b[0m\u001b[0;34m\u001b[0m\u001b[0;34m\u001b[0m\u001b[0m\n",
      "\u001b[0;31mNameError\u001b[0m: name 'data' is not defined"
     ]
    },
    {
     "data": {
      "image/png": "[encoded data removed]",
      "text/plain": [
       "<Figure size 720x720 with 1 Axes>"
      ]
     },
     "metadata": {
      "needs_background": "light"
     },
     "output_type": "display_data"
    }
   ],
   "source": [
    "from mpl_toolkits.mplot3d import Axes3D\n",
    "fig = plt.figure(figsize=(10,10))\n",
    "ax = Axes3D(fig)\n",
    "ax.scatter(data[\"output\"], data[\"thalachh\"],data[\"age\"],  c=\"red\", s=20, alpha=0.5)\n",
    "plt.xlabel('Heart Attack')\n",
    "plt.ylabel('Heart Rate')\n",
    "plt.show()"
   ]
  },
  {
   "cell_type": "markdown",
   "id": "dangerous-transition",
   "metadata": {
    "papermill": {
     "duration": 0.027084,
     "end_time": "2021-04-07T09:00:15.764926",
     "exception": false,
     "start_time": "2021-04-07T09:00:15.737842",
     "status": "completed"
    },
    "tags": []
   },
   "source": [
    "Peoplle having higher heart rate are highly likely to suffer from heart attack though age desnot contributes."
   ]
  },
  {
   "cell_type": "code",
   "execution_count": 9,
   "id": "binary-uruguay",
   "metadata": {
    "_kg_hide-input": true,
    "execution": {
     "iopub.execute_input": "2021-04-07T09:00:15.833976Z",
     "iopub.status.busy": "2021-04-07T09:00:15.833168Z",
     "iopub.status.idle": "2021-04-07T09:00:15.847233Z",
     "shell.execute_reply": "2021-04-07T09:00:15.846565Z"
    },
    "papermill": {
     "duration": 0.055104,
     "end_time": "2021-04-07T09:00:15.847401",
     "exception": false,
     "start_time": "2021-04-07T09:00:15.792297",
     "status": "completed"
    },
    "tags": []
   },
   "outputs": [
    {
     "ename": "NameError",
     "evalue": "name 'data' is not defined",
     "output_type": "error",
     "traceback": [
      "\u001b[0;31m---------------------------------------------------------------------------\u001b[0m",
      "\u001b[0;31mNameError\u001b[0m                                 Traceback (most recent call last)",
      "\u001b[0;32m<ipython-input-9-11d055586a8f>\u001b[0m in \u001b[0;36m<module>\u001b[0;34m\u001b[0m\n\u001b[0;32m----> 1\u001b[0;31m \u001b[0msns\u001b[0m\u001b[0;34m.\u001b[0m\u001b[0mcatplot\u001b[0m\u001b[0;34m(\u001b[0m\u001b[0mx\u001b[0m\u001b[0;34m=\u001b[0m\u001b[0;34m\"cp\"\u001b[0m\u001b[0;34m,\u001b[0m \u001b[0my\u001b[0m\u001b[0;34m=\u001b[0m\u001b[0;34m\"thalachh\"\u001b[0m\u001b[0;34m,\u001b[0m\u001b[0mhue\u001b[0m\u001b[0;34m=\u001b[0m\u001b[0;34m'output'\u001b[0m \u001b[0;34m,\u001b[0m\u001b[0mkind\u001b[0m\u001b[0;34m=\u001b[0m\u001b[0;34m\"box\"\u001b[0m\u001b[0;34m,\u001b[0m \u001b[0mdata\u001b[0m\u001b[0;34m=\u001b[0m\u001b[0mdata\u001b[0m\u001b[0;34m)\u001b[0m\u001b[0;34m\u001b[0m\u001b[0;34m\u001b[0m\u001b[0m\n\u001b[0m",
      "\u001b[0;31mNameError\u001b[0m: name 'data' is not defined"
     ]
    }
   ],
   "source": [
    "sns.catplot(x=\"cp\", y=\"thalachh\",hue='output' ,kind=\"box\", data=data)"
   ]
  },
  {
   "cell_type": "markdown",
   "id": "declared-capture",
   "metadata": {
    "papermill": {
     "duration": 0.027925,
     "end_time": "2021-04-07T09:00:15.904063",
     "exception": false,
     "start_time": "2021-04-07T09:00:15.876138",
     "status": "completed"
    },
    "tags": []
   },
   "source": [
    "Higher the chest pain and higher the heart, very likely is person to suffer from heart attack."
   ]
  },
  {
   "cell_type": "code",
   "execution_count": 10,
   "id": "architectural-definition",
   "metadata": {
    "_kg_hide-input": true,
    "execution": {
     "iopub.execute_input": "2021-04-07T09:00:15.981414Z",
     "iopub.status.busy": "2021-04-07T09:00:15.972338Z",
     "iopub.status.idle": "2021-04-07T09:00:15.985247Z",
     "shell.execute_reply": "2021-04-07T09:00:15.985893Z"
    },
    "papermill": {
     "duration": 0.053095,
     "end_time": "2021-04-07T09:00:15.986079",
     "exception": false,
     "start_time": "2021-04-07T09:00:15.932984",
     "status": "completed"
    },
    "tags": []
   },
   "outputs": [
    {
     "ename": "NameError",
     "evalue": "name 'data' is not defined",
     "output_type": "error",
     "traceback": [
      "\u001b[0;31m---------------------------------------------------------------------------\u001b[0m",
      "\u001b[0;31mNameError\u001b[0m                                 Traceback (most recent call last)",
      "\u001b[0;32m<ipython-input-10-01359653439b>\u001b[0m in \u001b[0;36m<module>\u001b[0;34m\u001b[0m\n\u001b[0;32m----> 1\u001b[0;31m \u001b[0msns\u001b[0m\u001b[0;34m.\u001b[0m\u001b[0mcatplot\u001b[0m\u001b[0;34m(\u001b[0m\u001b[0mdata\u001b[0m\u001b[0;34m=\u001b[0m\u001b[0mdata\u001b[0m\u001b[0;34m,\u001b[0m \u001b[0mx\u001b[0m\u001b[0;34m=\u001b[0m\u001b[0;34m\"exng\"\u001b[0m\u001b[0;34m,\u001b[0m \u001b[0my\u001b[0m\u001b[0;34m=\u001b[0m\u001b[0;34m\"age\"\u001b[0m\u001b[0;34m,\u001b[0m \u001b[0mhue\u001b[0m\u001b[0;34m=\u001b[0m\u001b[0;34m'output'\u001b[0m\u001b[0;34m,\u001b[0m\u001b[0maspect\u001b[0m\u001b[0;34m=\u001b[0m\u001b[0;36m1.7\u001b[0m\u001b[0;34m,\u001b[0m\u001b[0mkind\u001b[0m\u001b[0;34m=\u001b[0m\u001b[0;34m\"swarm\"\u001b[0m\u001b[0;34m)\u001b[0m\u001b[0;34m\u001b[0m\u001b[0;34m\u001b[0m\u001b[0m\n\u001b[0m",
      "\u001b[0;31mNameError\u001b[0m: name 'data' is not defined"
     ]
    }
   ],
   "source": [
    "sns.catplot(data=data, x=\"exng\", y=\"age\", hue='output',aspect=1.7,kind=\"swarm\")"
   ]
  },
  {
   "cell_type": "markdown",
   "id": "spare-tension",
   "metadata": {
    "papermill": {
     "duration": 0.029148,
     "end_time": "2021-04-07T09:00:16.043913",
     "exception": false,
     "start_time": "2021-04-07T09:00:16.014765",
     "status": "completed"
    },
    "tags": []
   },
   "source": [
    "People having low exercise induced angina are more probable to suffer from heart disease although age doesnot contribute as much to heart attack."
   ]
  },
  {
   "cell_type": "markdown",
   "id": "attempted-disabled",
   "metadata": {
    "papermill": {
     "duration": 0.028842,
     "end_time": "2021-04-07T09:00:16.101341",
     "exception": false,
     "start_time": "2021-04-07T09:00:16.072499",
     "status": "completed"
    },
    "tags": []
   },
   "source": [
    "# **Correlation among attributes**"
   ]
  },
  {
   "cell_type": "code",
   "execution_count": 11,
   "id": "marine-morgan",
   "metadata": {
    "_kg_hide-input": true,
    "execution": {
     "iopub.execute_input": "2021-04-07T09:00:16.163525Z",
     "iopub.status.busy": "2021-04-07T09:00:16.162514Z",
     "iopub.status.idle": "2021-04-07T09:00:16.186420Z",
     "shell.execute_reply": "2021-04-07T09:00:16.185803Z"
    },
    "papermill": {
     "duration": 0.056005,
     "end_time": "2021-04-07T09:00:16.186579",
     "exception": false,
     "start_time": "2021-04-07T09:00:16.130574",
     "status": "completed"
    },
    "tags": []
   },
   "outputs": [
    {
     "ename": "NameError",
     "evalue": "name 'data' is not defined",
     "output_type": "error",
     "traceback": [
      "\u001b[0;31m---------------------------------------------------------------------------\u001b[0m",
      "\u001b[0;31mNameError\u001b[0m                                 Traceback (most recent call last)",
      "\u001b[0;32m<ipython-input-11-4d208d5bbf23>\u001b[0m in \u001b[0;36m<module>\u001b[0;34m\u001b[0m\n\u001b[1;32m      1\u001b[0m \u001b[0mplt\u001b[0m\u001b[0;34m.\u001b[0m\u001b[0mfigure\u001b[0m\u001b[0;34m(\u001b[0m\u001b[0mfigsize\u001b[0m\u001b[0;34m=\u001b[0m\u001b[0;34m(\u001b[0m\u001b[0;36m15\u001b[0m\u001b[0;34m,\u001b[0m\u001b[0;36m8\u001b[0m\u001b[0;34m)\u001b[0m\u001b[0;34m)\u001b[0m\u001b[0;34m\u001b[0m\u001b[0;34m\u001b[0m\u001b[0m\n\u001b[0;32m----> 2\u001b[0;31m \u001b[0msns\u001b[0m\u001b[0;34m.\u001b[0m\u001b[0mheatmap\u001b[0m\u001b[0;34m(\u001b[0m\u001b[0mdata\u001b[0m\u001b[0;34m.\u001b[0m\u001b[0mcorr\u001b[0m\u001b[0;34m(\u001b[0m\u001b[0;34m)\u001b[0m\u001b[0;34m,\u001b[0m\u001b[0mcmap\u001b[0m\u001b[0;34m=\u001b[0m\u001b[0;34m\"Blues\"\u001b[0m\u001b[0;34m)\u001b[0m\u001b[0;34m\u001b[0m\u001b[0;34m\u001b[0m\u001b[0m\n\u001b[0m",
      "\u001b[0;31mNameError\u001b[0m: name 'data' is not defined"
     ]
    },
    {
     "data": {
      "text/plain": [
       "<Figure size 1080x576 with 0 Axes>"
      ]
     },
     "metadata": {},
     "output_type": "display_data"
    }
   ],
   "source": [
    "plt.figure(figsize=(15,8))\n",
    "sns.heatmap(data.corr(),cmap=\"Blues\")\n"
   ]
  },
  {
   "cell_type": "code",
   "execution_count": 12,
   "id": "friendly-treatment",
   "metadata": {
    "_kg_hide-input": true,
    "execution": {
     "iopub.execute_input": "2021-04-07T09:00:16.249308Z",
     "iopub.status.busy": "2021-04-07T09:00:16.248279Z",
     "iopub.status.idle": "2021-04-07T09:00:16.267698Z",
     "shell.execute_reply": "2021-04-07T09:00:16.268261Z"
    },
    "papermill": {
     "duration": 0.052512,
     "end_time": "2021-04-07T09:00:16.268475",
     "exception": false,
     "start_time": "2021-04-07T09:00:16.215963",
     "status": "completed"
    },
    "tags": []
   },
   "outputs": [
    {
     "ename": "NameError",
     "evalue": "name 'data' is not defined",
     "output_type": "error",
     "traceback": [
      "\u001b[0;31m---------------------------------------------------------------------------\u001b[0m",
      "\u001b[0;31mNameError\u001b[0m                                 Traceback (most recent call last)",
      "\u001b[0;32m<ipython-input-12-c44ded798807>\u001b[0m in \u001b[0;36m<module>\u001b[0;34m\u001b[0m\n\u001b[0;32m----> 1\u001b[0;31m \u001b[0mdata\u001b[0m\u001b[0;34m.\u001b[0m\u001b[0mcorr\u001b[0m\u001b[0;34m(\u001b[0m\u001b[0;34m)\u001b[0m\u001b[0;34m\u001b[0m\u001b[0;34m\u001b[0m\u001b[0m\n\u001b[0m",
      "\u001b[0;31mNameError\u001b[0m: name 'data' is not defined"
     ]
    }
   ],
   "source": [
    "data.corr()"
   ]
  },
  {
   "cell_type": "markdown",
   "id": "compact-hello",
   "metadata": {
    "papermill": {
     "duration": 0.03009,
     "end_time": "2021-04-07T09:00:16.329347",
     "exception": false,
     "start_time": "2021-04-07T09:00:16.299257",
     "status": "completed"
    },
    "tags": []
   },
   "source": [
    "As we can see from the above graph and table, heart attack have positive correlation with chest pain,heart rateand slope whereas have negative correlation age, induced engina and major vessels."
   ]
  }
 ],
 "metadata": {
  "kernelspec": {
   "display_name": "Python 3",
   "language": "python",
   "name": "python3"
  },
  "language_info": {
   "codemirror_mode": {
    "name": "ipython",
    "version": 3
   },
   "file_extension": ".py",
   "mimetype": "text/x-python",
   "name": "python",
   "nbconvert_exporter": "python",
   "pygments_lexer": "ipython3",
   "version": "3.7.9"
  },
  "papermill": {
   "default_parameters": {},
   "duration": 15.420583,
   "end_time": "2021-04-07T09:00:17.270277",
   "environment_variables": {},
   "exception": null,
   "input_path": "__notebook__.ipynb",
   "output_path": "__notebook__.ipynb",
   "parameters": {},
   "start_time": "2021-04-07T09:00:01.849694",
   "version": "2.3.2"
  }
 },
 "nbformat": 4,
 "nbformat_minor": 5
}
